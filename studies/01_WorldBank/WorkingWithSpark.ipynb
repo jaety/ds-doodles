{
 "cells": [
  {
   "cell_type": "code",
   "execution_count": 2,
   "metadata": {
    "collapsed": false
   },
   "outputs": [
    {
     "name": "stdout",
     "output_type": "stream",
     "text": [
      "Compiling init_spark.sc\n"
     ]
    },
    {
     "data": {
      "text/plain": [
       "\u001b[32mimport \u001b[39m\u001b[36m$exec.$           \u001b[39m"
      ]
     },
     "execution_count": 2,
     "metadata": {},
     "output_type": "execute_result"
    }
   ],
   "source": [
    "import $exec.`init_spark`"
   ]
  },
  {
   "cell_type": "code",
   "execution_count": 3,
   "metadata": {
    "collapsed": false
   },
   "outputs": [
    {
     "data": {
      "text/plain": [
       "\u001b[32mimport \u001b[39m\u001b[36msparkSession.implicits._\u001b[39m"
      ]
     },
     "execution_count": 3,
     "metadata": {},
     "output_type": "execute_result"
    }
   ],
   "source": [
    "import sparkSession.implicits._"
   ]
  },
  {
   "cell_type": "code",
   "execution_count": 4,
   "metadata": {
    "collapsed": false
   },
   "outputs": [
    {
     "name": "stderr",
     "output_type": "stream",
     "text": [
      "SLF4J: Failed to load class \"org.slf4j.impl.StaticLoggerBinder\".\n",
      "SLF4J: Defaulting to no-operation (NOP) logger implementation\n",
      "SLF4J: See http://www.slf4j.org/codes.html#StaticLoggerBinder for further details.\n"
     ]
    },
    {
     "data": {
      "text/plain": [
       "\u001b[36mdf\u001b[39m: \u001b[32mDataFrame\u001b[39m = [country: string, date: string ... 1 more field]"
      ]
     },
     "execution_count": 4,
     "metadata": {},
     "output_type": "execute_result"
    }
   ],
   "source": [
    "val df = sparkSession.read.load(\"../../data/EG.USE.PCAP.KG.OE.parquet\")"
   ]
  },
  {
   "cell_type": "code",
   "execution_count": 6,
   "metadata": {
    "collapsed": false
   },
   "outputs": [
    {
     "name": "stdout",
     "output_type": "stream",
     "text": [
      "root\n",
      " |-- country: string (nullable = true)\n",
      " |-- date: string (nullable = true)\n",
      " |-- EnergyUse: double (nullable = true)\n",
      "\n"
     ]
    }
   ],
   "source": [
    "df.printSchema()"
   ]
  },
  {
   "cell_type": "code",
   "execution_count": 7,
   "metadata": {
    "collapsed": false
   },
   "outputs": [
    {
     "name": "stdout",
     "output_type": "stream",
     "text": [
      "+----------+----+----------------+\n",
      "|   country|date|       EnergyUse|\n",
      "+----------+----+----------------+\n",
      "|Arab World|2016|            null|\n",
      "|Arab World|2015|            null|\n",
      "|Arab World|2014| 1953.2866799885|\n",
      "|Arab World|2013|1796.94395608284|\n",
      "|Arab World|2012|1840.17607419993|\n",
      "|Arab World|2011|1730.34335715862|\n",
      "|Arab World|2010|1764.52842919642|\n",
      "|Arab World|2009|1704.61229143762|\n",
      "|Arab World|2008|1658.96497157755|\n",
      "|Arab World|2007| 1575.1605340115|\n",
      "|Arab World|2006|1543.81365388741|\n",
      "|Arab World|2005| 1477.4704053085|\n",
      "|Arab World|2004|1422.61468479476|\n",
      "|Arab World|2003|1373.74580899676|\n",
      "|Arab World|2002|1381.53204529262|\n",
      "|Arab World|2001|1345.56258698601|\n",
      "|Arab World|2000|1278.84081270366|\n",
      "|Arab World|1999|1276.01316793182|\n",
      "|Arab World|1998|1290.76730243426|\n",
      "|Arab World|1997|1299.80898008518|\n",
      "+----------+----+----------------+\n",
      "only showing top 20 rows\n",
      "\n"
     ]
    }
   ],
   "source": [
    "df.show()"
   ]
  },
  {
   "cell_type": "code",
   "execution_count": null,
   "metadata": {
    "collapsed": true
   },
   "outputs": [],
   "source": []
  }
 ],
 "metadata": {
  "kernelspec": {
   "display_name": "Scala",
   "language": "scala",
   "name": "scala"
  },
  "language_info": {
   "codemirror_mode": "text/x-scala",
   "file_extension": ".scala",
   "mimetype": "text/x-scala",
   "name": "scala211",
   "nbconvert_exporter": "scala",
   "pygments_lexer": "scala",
   "version": "2.11.8"
  }
 },
 "nbformat": 4,
 "nbformat_minor": 2
}

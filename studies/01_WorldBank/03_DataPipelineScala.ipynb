{
 "cells": [
  {
   "cell_type": "code",
   "execution_count": 1,
   "metadata": {
    "collapsed": false
   },
   "outputs": [
    {
     "data": {
      "text/plain": [
       "\u001b[32mimport \u001b[39m\u001b[36mammonite.ops._\n",
       "\u001b[39m"
      ]
     },
     "execution_count": 1,
     "metadata": {},
     "output_type": "execute_result"
    }
   ],
   "source": [
    "// import $ivy.`net.tixxit::framian:0.5.0`\n",
    "// import framian.csv.Csv\n",
    "// import java.io.File\n",
    "// case class Country(name: String, code: String, code2: String, numeric: Int)\n",
    "// Csv.parseFile(new File(\"../../data/countries.csv\"))\n",
    "import ammonite.ops._\n",
    "interp.load.cp(pwd)\n",
    "\n",
    "// import jt.domain.Country"
   ]
  },
  {
   "cell_type": "code",
   "execution_count": 2,
   "metadata": {
    "collapsed": false
   },
   "outputs": [
    {
     "name": "stdout",
     "output_type": "stream",
     "text": [
      "Compiling init_spark.sc\n"
     ]
    },
    {
     "name": "stderr",
     "output_type": "stream",
     "text": [
      "log4j:WARN No appenders could be found for logger (io.netty.util.internal.logging.InternalLoggerFactory).\n",
      "log4j:WARN Please initialize the log4j system properly.\n",
      "log4j:WARN See http://logging.apache.org/log4j/1.2/faq.html#noconfig for more info.\n"
     ]
    },
    {
     "data": {
      "text/plain": [
       "\u001b[32mimport \u001b[39m\u001b[36m$exec.$           \n",
       "\u001b[39m\n",
       "\u001b[32mimport \u001b[39m\u001b[36msparkSession.implicits._\u001b[39m"
      ]
     },
     "execution_count": 2,
     "metadata": {},
     "output_type": "execute_result"
    }
   ],
   "source": [
    "import $exec.`init_spark`\n",
    "import sparkSession.implicits._"
   ]
  },
  {
   "cell_type": "code",
   "execution_count": 3,
   "metadata": {
    "collapsed": false
   },
   "outputs": [
    {
     "name": "stderr",
     "output_type": "stream",
     "text": [
      "SLF4J: Failed to load class \"org.slf4j.impl.StaticLoggerBinder\".\n",
      "SLF4J: Defaulting to no-operation (NOP) logger implementation\n",
      "SLF4J: See http://www.slf4j.org/codes.html#StaticLoggerBinder for further details.\n"
     ]
    },
    {
     "data": {
      "text/plain": [
       "\u001b[36mdf\u001b[39m: \u001b[32mDataFrame\u001b[39m = [country: string, year: bigint ... 1 more field]"
      ]
     },
     "execution_count": 3,
     "metadata": {},
     "output_type": "execute_result"
    }
   ],
   "source": [
    "val df = sparkSession.read.load(\"../../data/NY.GDP.MKTP.CD.parquet\")"
   ]
  },
  {
   "cell_type": "code",
   "execution_count": 4,
   "metadata": {
    "collapsed": false
   },
   "outputs": [
    {
     "data": {
      "text/plain": [
       "\u001b[36mx\u001b[39m: \u001b[32mDataset\u001b[39m[\u001b[32mRow\u001b[39m] = [country: string, year: bigint ... 1 more field]"
      ]
     },
     "execution_count": 4,
     "metadata": {},
     "output_type": "execute_result"
    }
   ],
   "source": [
    "val x = df.sort($\"year\").filter($\"country\" === \"USA\" && $\"year\" > 2000)"
   ]
  },
  {
   "cell_type": "code",
   "execution_count": 11,
   "metadata": {
    "collapsed": false
   },
   "outputs": [
    {
     "data": {
      "text/plain": [
       "\u001b[36my\u001b[39m: \u001b[32mDataFrame\u001b[39m = [country: string, year: bigint ... 1 more field]"
      ]
     },
     "execution_count": 11,
     "metadata": {},
     "output_type": "execute_result"
    }
   ],
   "source": [
    "val y = df.select($\"country\", $\"year\", $\"NY_GDP_MKTP_CD\" / 1e12 alias \"GDP\")"
   ]
  },
  {
   "cell_type": "code",
   "execution_count": 12,
   "metadata": {
    "collapsed": false
   },
   "outputs": [
    {
     "name": "stdout",
     "output_type": "stream",
     "text": [
      "+-------+----+----+\n",
      "|country|year| GDP|\n",
      "+-------+----+----+\n",
      "|    ABW|1960|null|\n",
      "|    ABW|1961|null|\n",
      "|    ABW|1962|null|\n",
      "|    ABW|1963|null|\n",
      "|    ABW|1964|null|\n",
      "|    ABW|1965|null|\n",
      "|    ABW|1966|null|\n",
      "|    ABW|1967|null|\n",
      "|    ABW|1968|null|\n",
      "|    ABW|1969|null|\n",
      "|    ABW|1970|null|\n",
      "|    ABW|1971|null|\n",
      "|    ABW|1972|null|\n",
      "|    ABW|1973|null|\n",
      "|    ABW|1974|null|\n",
      "|    ABW|1975|null|\n",
      "|    ABW|1976|null|\n",
      "|    ABW|1977|null|\n",
      "|    ABW|1978|null|\n",
      "|    ABW|1979|null|\n",
      "+-------+----+----+\n",
      "only showing top 20 rows\n",
      "\n"
     ]
    }
   ],
   "source": [
    "y.show()"
   ]
  },
  {
   "cell_type": "code",
   "execution_count": 13,
   "metadata": {
    "collapsed": false
   },
   "outputs": [
    {
     "name": "stdout",
     "output_type": "stream",
     "text": [
      "== Parsed Logical Plan ==\n",
      "'Project [unresolvedalias('country, None), unresolvedalias('year, None), ('NY_GDP_MKTP_CD / 1.0E12) AS GDP#25]\n",
      "+- Relation[country#0,year#1L,NY_GDP_MKTP_CD#2] parquet\n",
      "\n",
      "== Analyzed Logical Plan ==\n",
      "country: string, year: bigint, GDP: double\n",
      "Project [country#0, year#1L, (NY_GDP_MKTP_CD#2 / 1.0E12) AS GDP#25]\n",
      "+- Relation[country#0,year#1L,NY_GDP_MKTP_CD#2] parquet\n",
      "\n",
      "== Optimized Logical Plan ==\n",
      "Project [country#0, year#1L, (NY_GDP_MKTP_CD#2 / 1.0E12) AS GDP#25]\n",
      "+- Relation[country#0,year#1L,NY_GDP_MKTP_CD#2] parquet\n",
      "\n",
      "== Physical Plan ==\n",
      "*Project [country#0, year#1L, (NY_GDP_MKTP_CD#2 / 1.0E12) AS GDP#25]\n",
      "+- *FileScan parquet [country#0,year#1L,NY_GDP_MKTP_CD#2] Batched: true, Format: Parquet, Location: InMemoryFileIndex[file:/Users/jaety/projects/datascience/data/NY.GDP.MKTP.CD.parquet], PartitionFilters: [], PushedFilters: [], ReadSchema: struct<country:string,year:bigint,NY_GDP_MKTP_CD:double>\n"
     ]
    }
   ],
   "source": [
    "y.explain(true)"
   ]
  },
  {
   "cell_type": "code",
   "execution_count": null,
   "metadata": {
    "collapsed": false
   },
   "outputs": [],
   "source": [
    "import jt.domain._\n",
    "// df.printSchema()"
   ]
  },
  {
   "cell_type": "code",
   "execution_count": null,
   "metadata": {
    "collapsed": false
   },
   "outputs": [],
   "source": [
    "val dfc = df.as[Country]"
   ]
  },
  {
   "cell_type": "code",
   "execution_count": null,
   "metadata": {
    "collapsed": false
   },
   "outputs": [],
   "source": [
    "val x = dfc.filter(c => Seq(\"USA\", \"JPN\").contains(c.code))"
   ]
  },
  {
   "cell_type": "code",
   "execution_count": null,
   "metadata": {
    "collapsed": false
   },
   "outputs": [],
   "source": [
    "dfc.show()"
   ]
  }
 ],
 "metadata": {
  "kernelspec": {
   "display_name": "Scala",
   "language": "scala",
   "name": "scala"
  },
  "language_info": {
   "codemirror_mode": "text/x-scala",
   "file_extension": ".scala",
   "mimetype": "text/x-scala",
   "name": "scala211",
   "nbconvert_exporter": "scala",
   "pygments_lexer": "scala",
   "version": "2.11.8"
  }
 },
 "nbformat": 4,
 "nbformat_minor": 2
}
